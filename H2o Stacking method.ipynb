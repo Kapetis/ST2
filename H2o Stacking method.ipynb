{
 "cells": [
  {
   "cell_type": "code",
   "execution_count": 7,
   "metadata": {
    "collapsed": false
   },
   "outputs": [
    {
     "name": "stdout",
     "output_type": "stream",
     "text": [
      "Checking whether there is an H2O instance running at http://localhost:54321. connected.\n"
     ]
    },
    {
     "data": {
      "text/html": [
       "<div style=\"overflow:auto\"><table style=\"width:50%\"><tr><td>H2O cluster uptime:</td>\n",
       "<td>7 mins 08 secs</td></tr>\n",
       "<tr><td>H2O cluster version:</td>\n",
       "<td>3.10.4.8</td></tr>\n",
       "<tr><td>H2O cluster version age:</td>\n",
       "<td>1 month and 18 days </td></tr>\n",
       "<tr><td>H2O cluster name:</td>\n",
       "<td>H2O_from_python_root_ryu2oo</td></tr>\n",
       "<tr><td>H2O cluster total nodes:</td>\n",
       "<td>1</td></tr>\n",
       "<tr><td>H2O cluster free memory:</td>\n",
       "<td>1.551 Gb</td></tr>\n",
       "<tr><td>H2O cluster total cores:</td>\n",
       "<td>8</td></tr>\n",
       "<tr><td>H2O cluster allowed cores:</td>\n",
       "<td>8</td></tr>\n",
       "<tr><td>H2O cluster status:</td>\n",
       "<td>locked, healthy</td></tr>\n",
       "<tr><td>H2O connection url:</td>\n",
       "<td>http://localhost:54321</td></tr>\n",
       "<tr><td>H2O connection proxy:</td>\n",
       "<td>None</td></tr>\n",
       "<tr><td>H2O internal security:</td>\n",
       "<td>False</td></tr>\n",
       "<tr><td>Python version:</td>\n",
       "<td>2.7.6 final</td></tr></table></div>"
      ],
      "text/plain": [
       "--------------------------  ---------------------------\n",
       "H2O cluster uptime:         7 mins 08 secs\n",
       "H2O cluster version:        3.10.4.8\n",
       "H2O cluster version age:    1 month and 18 days\n",
       "H2O cluster name:           H2O_from_python_root_ryu2oo\n",
       "H2O cluster total nodes:    1\n",
       "H2O cluster free memory:    1.551 Gb\n",
       "H2O cluster total cores:    8\n",
       "H2O cluster allowed cores:  8\n",
       "H2O cluster status:         locked, healthy\n",
       "H2O connection url:         http://localhost:54321\n",
       "H2O connection proxy:\n",
       "H2O internal security:      False\n",
       "Python version:             2.7.6 final\n",
       "--------------------------  ---------------------------"
      ]
     },
     "metadata": {},
     "output_type": "display_data"
    }
   ],
   "source": [
    "import h2o\n",
    "h2o.init()\n",
    "from h2o.estimators.random_forest import H2ORandomForestEstimator\n",
    "from h2o.estimators.gbm import H2OGradientBoostingEstimator\n",
    "from h2o.estimators.glm import H2OGeneralizedLinearEstimator\n",
    "from h2o.estimators.stackedensemble import H2OStackedEnsembleEstimator\n"
   ]
  },
  {
   "cell_type": "code",
   "execution_count": null,
   "metadata": {
    "collapsed": false
   },
   "outputs": [
    {
     "name": "stdout",
     "output_type": "stream",
     "text": [
      "Parse progress: |"
     ]
    }
   ],
   "source": [
    "col_types = [\"numeric\", \"numeric\", \"numeric\", \"enum\", \"enum\", \"numeric\", \"numeric\", \"numeric\", \"numeric\"]\n",
    "data = h2o.import_file(\"http://h2o-public-test-data.s3.amazonaws.com/smalldata/prostate/prostate.csv\", col_types=col_types)\n",
    "train = h2o.import_file(\"https://s3.amazonaws.com/erin-data/higgs/higgs_train_10k.csv\")\n",
    "test =  h2o.import_file(\"https://s3.amazonaws.com/erin-data/higgs/higgs_test_5k.csv\")\n",
    "\n",
    "#train, test = data.split_frame(ratios=[.8], seed=1)\n",
    "x = [\"CAPSULE\",\"GLEASON\",\"RACE\",\"DPROS\",\"DCAPS\",\"PSA\",\"VOL\"]\n",
    "y = \"AGE\"\n",
    "nfolds = 5\n",
    "my_gbm = H2OGradientBoostingEstimator(nfolds=nfolds, fold_assignment=\"Modulo\", keep_cross_validation_predictions=True)\n",
    "my_gbm.train(x=x, y=y, training_frame=train)\n",
    "my_rf = H2ORandomForestEstimator(nfolds=nfolds, fold_assignment=\"Modulo\", keep_cross_validation_predictions=True)\n",
    "my_rf.train(x=x, y=y, training_frame=train)\n",
    "\n",
    "my_glm = H2OGeneralizedLinearEstimator(nfolds=nfolds, fold_assignment=\"Modulo\", keep_cross_validation_predictions=True)\n",
    "my_glm.train(x=x, y=y, training_frame=train)\n",
    "\n",
    "stack = H2OStackedEnsembleEstimator(model_id=\"my_ensemble\", training_frame=train, validation_frame=test, base_models=[my_gbm.model_id, my_rf.model_id,my_glm.model_id])\n",
    "stack.train(x=x, y=y, training_frame=train, validation_frame=test)\n",
    "\n",
    "stack.model_performance()"
   ]
  },
  {
   "cell_type": "code",
   "execution_count": 17,
   "metadata": {
    "collapsed": false
   },
   "outputs": [
    {
     "name": "stdout",
     "output_type": "stream",
     "text": [
      "\n",
      "ModelMetricsRegression: gbm\n",
      "** Reported on train data. **\n",
      "\n",
      "MSE: 23.9028739906\n",
      "RMSE: 4.88905655424\n",
      "MAE: 3.91630132575\n",
      "RMSLE: 0.0753989795312\n",
      "Mean Residual Deviance: 23.9028739906\n"
     ]
    },
    {
     "data": {
      "text/plain": []
     },
     "execution_count": 17,
     "metadata": {},
     "output_type": "execute_result"
    }
   ],
   "source": [
    "my_gbm.model_performance()"
   ]
  },
  {
   "cell_type": "code",
   "execution_count": 18,
   "metadata": {
    "collapsed": false
   },
   "outputs": [
    {
     "name": "stdout",
     "output_type": "stream",
     "text": [
      "\n",
      "ModelMetricsRegression: drf\n",
      "** Reported on train data. **\n",
      "\n",
      "MSE: 48.7475449815\n",
      "RMSE: 6.98194421214\n",
      "MAE: 5.66544878255\n",
      "RMSLE: 0.106896045276\n",
      "Mean Residual Deviance: 48.7475449815\n"
     ]
    },
    {
     "data": {
      "text/plain": []
     },
     "execution_count": 18,
     "metadata": {},
     "output_type": "execute_result"
    }
   ],
   "source": [
    "my_rf.model_performance()"
   ]
  },
  {
   "cell_type": "code",
   "execution_count": 11,
   "metadata": {
    "collapsed": false
   },
   "outputs": [
    {
     "name": "stdout",
     "output_type": "stream",
     "text": [
      "\n",
      "ModelMetricsRegressionGLM: glm\n",
      "** Reported on train data. **\n",
      "\n",
      "MSE: 40.5757406849\n",
      "RMSE: 6.3699090013\n",
      "MAE: 5.22359545593\n",
      "RMSLE: 0.0977400498009\n",
      "R^2: 0.0443128952058\n",
      "Mean Residual Deviance: 40.5757406849\n",
      "Null degrees of freedom: 303\n",
      "Residual degrees of freedom: 291\n",
      "Null deviance: 12906.9703947\n",
      "Residual deviance: 12335.0251682\n",
      "AIC: 2016.47842004\n"
     ]
    },
    {
     "data": {
      "text/plain": []
     },
     "execution_count": 11,
     "metadata": {},
     "output_type": "execute_result"
    }
   ],
   "source": [
    "my_glm.model_performance()"
   ]
  },
  {
   "cell_type": "code",
   "execution_count": null,
   "metadata": {
    "collapsed": true
   },
   "outputs": [],
   "source": []
  }
 ],
 "metadata": {
  "kernelspec": {
   "display_name": "Python 2",
   "language": "python",
   "name": "python2"
  },
  "language_info": {
   "codemirror_mode": {
    "name": "ipython",
    "version": 2
   },
   "file_extension": ".py",
   "mimetype": "text/x-python",
   "name": "python",
   "nbconvert_exporter": "python",
   "pygments_lexer": "ipython2",
   "version": "2.7.6"
  }
 },
 "nbformat": 4,
 "nbformat_minor": 2
}
